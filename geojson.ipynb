{
 "cells": [
  {
   "cell_type": "code",
   "execution_count": 1,
   "id": "d69fb9d8-414d-41e7-9602-7446eb465f5d",
   "metadata": {},
   "outputs": [],
   "source": [
    "# Convert to geojson"
   ]
  },
  {
   "cell_type": "code",
   "execution_count": 17,
   "id": "1da1b71d-7750-4fae-b5d9-8a4788744786",
   "metadata": {},
   "outputs": [],
   "source": [
    "import pandas as pd\n",
    "import geojson\n",
    "\n",
    "# Load the tab-delimited file into a pandas DataFrame\n",
    "df = pd.read_csv('hypocenters.txt', sep='\\t')\n",
    "\n",
    "df.columns\n",
    "\n",
    "# Remove leading and trailing whitespace from column names\n",
    "new_columns = [col.strip() for col in df.columns]\n",
    "df.columns = new_columns\n",
    "\n",
    "# Split 'Date hhmm' into separate 'Date' and 'Time' columns\n",
    "df[['Date', 'Time']] = df[new_columns[0]].str.split(expand=True)\n",
    "\n",
    "# Ensure Time column is properly formatted\n",
    "df['Time'] = df['Time'].str.zfill(4)  # Pad with zeros if necessary\n",
    "\n",
    "# Convert Sec column to float and format as needed\n",
    "df['Time_Msec'] = (df['Sec'] % 1) * 100\n",
    "df['Sec'] = df['Sec'].apply(lambda x: int(x))\n",
    "df['Time'] = df.apply(lambda row: f\"{row['Time']}:{row['Sec']:02d}.{int(row['Time_Msec']):02d}\", axis=1)\n",
    "\n",
    "# Drop original column\n",
    "df = df.drop(columns=[new_columns[0]])\n",
    "\n",
    "# Ensure Lon, Lat, Depth are numeric\n",
    "df[['Lon', 'Lat', 'Depth']] = df[['Lon', 'Lat', 'Depth']].apply(pd.to_numeric)"
   ]
  },
  {
   "cell_type": "code",
   "execution_count": 19,
   "id": "3011c882-b963-480e-ad59-d2fc9381a5f7",
   "metadata": {},
   "outputs": [],
   "source": [
    "features = []\n",
    "for index, row in df.iterrows():\n",
    "    feature = {\n",
    "        'type': 'Feature',\n",
    "        'properties': {\n",
    "            'Date': row['Date'],\n",
    "            'Time': row['Time'],  # Use 'Time' instead of 'hhmm'\n",
    "            'Depth': row['Depth'],\n",
    "            '±Depth': row['±Depth'],\n",
    "            'ML': row['ML']\n",
    "        },\n",
    "        'geometry': {\n",
    "            'type': 'Point',\n",
    "            'coordinates': [row['Lon'], row['Lat']]\n",
    "        }\n",
    "    }\n",
    "    features.append(feature)\n",
    "\n",
    "geojson_data = {\n",
    "    'type': 'FeatureCollection',\n",
    "    'features': features\n",
    "}"
   ]
  },
  {
   "cell_type": "code",
   "execution_count": 20,
   "id": "e059c292-450b-44f3-bf36-b4d8121a6031",
   "metadata": {},
   "outputs": [],
   "source": [
    "import json\n",
    "\n",
    "with open('hypocenter.geojson', 'w') as f:\n",
    "    json.dump(geojson_data, f, indent=4)"
   ]
  },
  {
   "cell_type": "code",
   "execution_count": null,
   "id": "b9b020a5-a67f-4b7f-ae1e-5b329859f03f",
   "metadata": {},
   "outputs": [],
   "source": []
  }
 ],
 "metadata": {
  "kernelspec": {
   "display_name": "Python 3 (ipykernel)",
   "language": "python",
   "name": "python3"
  },
  "language_info": {
   "codemirror_mode": {
    "name": "ipython",
    "version": 3
   },
   "file_extension": ".py",
   "mimetype": "text/x-python",
   "name": "python",
   "nbconvert_exporter": "python",
   "pygments_lexer": "ipython3",
   "version": "3.9.19"
  }
 },
 "nbformat": 4,
 "nbformat_minor": 5
}
